{
  "nbformat": 4,
  "nbformat_minor": 0,
  "metadata": {
    "colab": {
      "provenance": [],
      "collapsed_sections": [],
      "authorship_tag": "ABX9TyPV/JZonWy+CWn/9llohz04",
      "include_colab_link": true
    },
    "kernelspec": {
      "name": "python3",
      "display_name": "Python 3"
    },
    "language_info": {
      "name": "python"
    }
  },
  "cells": [
    {
      "cell_type": "markdown",
      "metadata": {
        "id": "view-in-github",
        "colab_type": "text"
      },
      "source": [
        "<a href=\"https://colab.research.google.com/github/Birusky/Punya-Mariam/blob/main/DAA_P11.ipynb\" target=\"_parent\"><img src=\"https://colab.research.google.com/assets/colab-badge.svg\" alt=\"Open In Colab\"/></a>"
      ]
    },
    {
      "cell_type": "code",
      "execution_count": null,
      "metadata": {
        "id": "vlJplIS35D_c"
      },
      "outputs": [],
      "source": [
        "# a......b\n",
        "# /      /\n",
        "# /      /\n",
        "# c......d.....e"
      ]
    },
    {
      "cell_type": "code",
      "source": [
        "# Creat the dictionary with graph elements\n",
        "graph = { \"a\" : [\"b\", \"c\"],\n",
        "          \"b\" : [\"a\", \"d\"],\n",
        "          \"c\" : [\"a\", \"d\"],\n",
        "          \"d\" : [\"e\"],\n",
        "          \"e\" : [\"d\"]\n",
        "}\n",
        "#Print the graph \n",
        "print (graph)"
      ],
      "metadata": {
        "colab": {
          "base_uri": "https://localhost:8080/"
        },
        "id": "ahlYpSdn79yC",
        "outputId": "dd59157c-3845-43ba-f17c-93d04c5f5ebb"
      },
      "execution_count": 1,
      "outputs": [
        {
          "output_type": "stream",
          "name": "stdout",
          "text": [
            "{'a': ['b', 'c'], 'b': ['a', 'd'], 'c': ['a', 'd'], 'd': ['e'], 'e': ['d']}\n"
          ]
        }
      ]
    },
    {
      "cell_type": "code",
      "source": [
        "graph = { \"T\" : [\"U\", \"W\"],\n",
        "          \"U\" : [\"T\", \"V\"],\n",
        "          \"V\" : [\"U\", \"T\"],\n",
        "          \"W\" : [\"T\", \"X\", \"Z\"],\n",
        "          \"X\" : [\"V\", \"W\", \"S\"],\n",
        "          \"Z\" : [\"W\"],\n",
        "          \"S\" : [\"X\"]\n",
        "}\n",
        "print (graph)"
      ],
      "metadata": {
        "colab": {
          "base_uri": "https://localhost:8080/"
        },
        "id": "gu2HS9oe9JcF",
        "outputId": "f66863d4-4180-418c-b0fd-f997308875e3"
      },
      "execution_count": 2,
      "outputs": [
        {
          "output_type": "stream",
          "name": "stdout",
          "text": [
            "{'T': ['U', 'W'], 'U': ['T', 'V'], 'V': ['U', 'T'], 'W': ['T', 'X', 'Z'], 'X': ['V', 'W', 'S'], 'Z': ['W'], 'S': ['X']}\n"
          ]
        }
      ]
    },
    {
      "cell_type": "code",
      "source": [
        "graph = { \"R\" : [\"O\", \"L\"],\n",
        "          \"O\" : [\"M\", \"P\"],\n",
        "          \"M\" : [\"O\", \"N\"],\n",
        "          \"L\" : [\"R\", \"P\"],\n",
        "          \"P\" : [\"L\", \"O\", \"N\"],\n",
        "          \"N\" : [\"M\", \"P\"]\n",
        "}\n",
        "print (graph)"
      ],
      "metadata": {
        "colab": {
          "base_uri": "https://localhost:8080/"
        },
        "id": "8a0DKNbTCSBx",
        "outputId": "19c764e7-24cc-467e-9595-d93fd4668409"
      },
      "execution_count": 3,
      "outputs": [
        {
          "output_type": "stream",
          "name": "stdout",
          "text": [
            "{'R': ['O', 'L'], 'O': ['M', 'P'], 'M': ['O', 'N'], 'L': ['R', 'P'], 'P': ['L', 'O', 'N'], 'N': ['M', 'P']}\n"
          ]
        }
      ]
    },
    {
      "cell_type": "code",
      "source": [
        "class graph :\n",
        "  def __init__(self,gdict=None):\n",
        "    if gdict is None:\n",
        "      gdict = []\n",
        "    self.gdict = gdict\n",
        "  \n",
        "  def getVertices(self):\n",
        "    return list(self.gdict.keys())\n",
        "\n",
        "graph_elements = { \"a\" : [\"b\", \"c\"],\n",
        "                   \"b\" : [\"a\", \"d\"],\n",
        "                   \"c\" : [\"a\", \"d\"],\n",
        "                   \"d\" : [\"e\"],\n",
        "                   \"e\" : [\"d\"]\n",
        "                 }\n",
        "\n",
        "g = graph(graph_elements)\n",
        "print(g.getVertices())"
      ],
      "metadata": {
        "colab": {
          "base_uri": "https://localhost:8080/"
        },
        "id": "XJ6JuvYtDarI",
        "outputId": "b4585d54-7f4c-406a-b975-8247ef7ae7fb"
      },
      "execution_count": 4,
      "outputs": [
        {
          "output_type": "stream",
          "name": "stdout",
          "text": [
            "['a', 'b', 'c', 'd', 'e']\n"
          ]
        }
      ]
    },
    {
      "cell_type": "code",
      "source": [
        "class graph :\n",
        "  def __init__(self,gdict=None):\n",
        "    if gdict is None:\n",
        "      gdict = []\n",
        "    self.gdict = gdict\n",
        "  \n",
        "  def getVertices(self):\n",
        "    return list(self.gdict.keys())\n",
        "\n",
        "graph_elements = { \"T\" : [\"U\", \"W\"],\n",
        "                   \"U\" : [\"T\", \"V\"],\n",
        "                   \"V\" : [\"U\", \"T\"]\n",
        "                 }\n",
        "\n",
        "g = graph(graph_elements)\n",
        "print(g.getVertices())"
      ],
      "metadata": {
        "colab": {
          "base_uri": "https://localhost:8080/"
        },
        "id": "2eM2qLtBFCez",
        "outputId": "4e0ac7f2-921a-46e0-cf41-dded8c614d49"
      },
      "execution_count": 5,
      "outputs": [
        {
          "output_type": "stream",
          "name": "stdout",
          "text": [
            "['T', 'U', 'V']\n"
          ]
        }
      ]
    },
    {
      "cell_type": "code",
      "source": [
        "class graph :\n",
        "  def __init__(self,gdict=None):\n",
        "    if gdict is None:\n",
        "      gdict = []\n",
        "    self.gdict = gdict\n",
        "  \n",
        "  def getVertices(self):\n",
        "    return list(self.gdict.keys())\n",
        "\n",
        "graph_elements = { \"R\" : [\"O\", \"L\"],\n",
        "                   \"O\" : [\"M\", \"P\"],\n",
        "                   \"M\" : [\"O\", \"N\"]\n",
        "                 }\n",
        "\n",
        "g = graph(graph_elements)\n",
        "print(g.getVertices())"
      ],
      "metadata": {
        "colab": {
          "base_uri": "https://localhost:8080/"
        },
        "id": "sh3AVG6VF9tY",
        "outputId": "e1ba5025-f706-4bd5-90eb-00c5995523fa"
      },
      "execution_count": 6,
      "outputs": [
        {
          "output_type": "stream",
          "name": "stdout",
          "text": [
            "['R', 'O', 'M']\n"
          ]
        }
      ]
    },
    {
      "cell_type": "code",
      "source": [
        "class graph:\n",
        "  def __init__(self,gdict=None):\n",
        "    if gdict is None:\n",
        "      gdict = []\n",
        "    self.gdict = gdict\n",
        "\n",
        "  def getVertices(self):\n",
        "    return list(self.gdict.keys())\n",
        "\n",
        "graph_elements = {\"a\" : [\"b\", \"c\"],\n",
        "                  \"b\" : [\"a\", \"d\"],\n",
        "                  \"c\" : [\"a\", \"d\"],\n",
        "                  \"d\" : [\"e\"],\n",
        "                  \"e\" : [\"d\"]\n",
        "                }\n",
        "\n",
        "g = graph(graph_elements)\n",
        "print(g.getVertices())"
      ],
      "metadata": {
        "colab": {
          "base_uri": "https://localhost:8080/"
        },
        "id": "nIY0gQcHGKUA",
        "outputId": "1eb5b3ca-5211-4d78-da9a-978bf1f000ac"
      },
      "execution_count": 7,
      "outputs": [
        {
          "output_type": "stream",
          "name": "stdout",
          "text": [
            "['a', 'b', 'c', 'd', 'e']\n"
          ]
        }
      ]
    },
    {
      "cell_type": "code",
      "source": [
        "class graph:\n",
        "  def __init__(self,gdict=None):\n",
        "    if gdict is None:\n",
        "      gdict = []\n",
        "    self.gdict = gdict\n",
        "\n",
        "  def getVertices(self):\n",
        "    return list(self.gdict.keys())\n",
        "\n",
        "graph_elements = { \"T\" : [\"U\", \"W\"],\n",
        "                   \"U\" : [\"T\", \"V\"],\n",
        "                   \"V\" : [\"U\", \"T\"]\n",
        "                 }\n",
        "\n",
        "g = graph(graph_elements)\n",
        "print(g.getVertices())"
      ],
      "metadata": {
        "colab": {
          "base_uri": "https://localhost:8080/"
        },
        "id": "7p_mew9UJpzA",
        "outputId": "46bfba0c-5ca5-4604-9ad4-ae1ca3471372"
      },
      "execution_count": 8,
      "outputs": [
        {
          "output_type": "stream",
          "name": "stdout",
          "text": [
            "['T', 'U', 'V']\n"
          ]
        }
      ]
    },
    {
      "cell_type": "code",
      "source": [
        "class graph:\n",
        "  def __init__(self,gdict=None):\n",
        "    if gdict is None:\n",
        "      gdict = []\n",
        "    self.gdict = gdict\n",
        "\n",
        "  def getVertices(self):\n",
        "    return list(self.gdict.keys())\n",
        "\n",
        "graph_elements = { \"R\" : [\"O\", \"L\"],\n",
        "                   \"O\" : [\"M\", \"P\"],\n",
        "                   \"M\" : [\"O\", \"N\"]\n",
        "                 }\n",
        "\n",
        "g = graph(graph_elements)\n",
        "print(g.getVertices())"
      ],
      "metadata": {
        "colab": {
          "base_uri": "https://localhost:8080/"
        },
        "id": "80QOzCoSQ-rr",
        "outputId": "80114a60-074a-4ea8-8b4f-716ae4511fcc"
      },
      "execution_count": 9,
      "outputs": [
        {
          "output_type": "stream",
          "name": "stdout",
          "text": [
            "['R', 'O', 'M']\n"
          ]
        }
      ]
    },
    {
      "cell_type": "code",
      "source": [
        "class graph:\n",
        "  def __init__(self,gdict=None):\n",
        "    if gdict is None:\n",
        "        gdict = {}\n",
        "    self.gdict = gdict\n",
        "\n",
        "  def edges(self):\n",
        "    return self.findedges()\n",
        "\n",
        "#Find the distinct list of edges\n",
        "  def findedges(self):\n",
        "    edgename = []\n",
        "    for vrtx in self.gdict:\n",
        "      for nxtvrtx in self.gdict[vrtx]:\n",
        "        if {nxtvrtx, vrtx} not in edgename:\n",
        "          edgename.append({vrtx, nxtvrtx})\n",
        "    return edgename\n",
        "\n",
        "#Create the dictionary with grpah elemnts\n",
        "graph_elements = { \"a\" : [\"b\", \"c\"],\n",
        "                 \"b\" : [\"a\", \"d\"],\n",
        "                 \"c\" : [\"a\", \"d\"],\n",
        "                 \"d\" : [\"e\"],\n",
        "                 \"e\" : [\"d\"]\n",
        "                 }\n",
        "g = graph(graph_elements)     \n",
        "print(g.edges())    "
      ],
      "metadata": {
        "colab": {
          "base_uri": "https://localhost:8080/"
        },
        "id": "2ZCz-lJhLJVH",
        "outputId": "fd15c43b-e981-4cea-e376-728a39384531"
      },
      "execution_count": 10,
      "outputs": [
        {
          "output_type": "stream",
          "name": "stdout",
          "text": [
            "[{'a', 'b'}, {'c', 'a'}, {'d', 'b'}, {'c', 'd'}, {'d', 'e'}]\n"
          ]
        }
      ]
    },
    {
      "cell_type": "code",
      "source": [
        "class graph:\n",
        "  def __init__(self,gdict=None):\n",
        "    if gdict is None:\n",
        "        gdict = {}\n",
        "    self.gdict = gdict\n",
        "\n",
        "  def edges(self):\n",
        "    return self.findedges()\n",
        "\n",
        "#Find the distinct list of edges\n",
        "  def findedges(self):\n",
        "    edgename = []\n",
        "    for vrtx in self.gdict:\n",
        "      for nxtvrtx in self.gdict[vrtx]:\n",
        "        if {nxtvrtx, vrtx} not in edgename:\n",
        "          edgename.append({vrtx, nxtvrtx})\n",
        "    return edgename\n",
        "\n",
        "#Create the dictionary with grpah elemnts\n",
        "graph_elements = { \"T\" : [\"U\", \"W\"],\n",
        "                   \"U\" : [\"T\", \"V\"],\n",
        "                   \"V\" : [\"U\", \"T\"]\n",
        "                 }\n",
        "g = graph(graph_elements)     \n",
        "print(g.edges())    "
      ],
      "metadata": {
        "colab": {
          "base_uri": "https://localhost:8080/"
        },
        "id": "g6tsrieVQoiZ",
        "outputId": "bfc74842-9f28-43a1-d500-98bc7659c8c7"
      },
      "execution_count": 11,
      "outputs": [
        {
          "output_type": "stream",
          "name": "stdout",
          "text": [
            "[{'T', 'U'}, {'T', 'W'}, {'V', 'U'}, {'T', 'V'}]\n"
          ]
        }
      ]
    },
    {
      "cell_type": "code",
      "source": [
        "class graph:\n",
        "  def __init__(self,gdict=None):\n",
        "    if gdict is None:\n",
        "        gdict = {}\n",
        "    self.gdict = gdict\n",
        "\n",
        "  def edges(self):\n",
        "    return self.findedges()\n",
        "\n",
        "#Find the distinct list of edges\n",
        "  def findedges(self):\n",
        "    edgename = []\n",
        "    for vrtx in self.gdict:\n",
        "      for nxtvrtx in self.gdict[vrtx]:\n",
        "        if {nxtvrtx, vrtx} not in edgename:\n",
        "          edgename.append({vrtx, nxtvrtx})\n",
        "    return edgename\n",
        "\n",
        "#Create the dictionary with grpah elemnts\n",
        "graph_elements = { \"R\" : [\"O\", \"L\"],\n",
        "                   \"O\" : [\"M\", \"P\"],\n",
        "                   \"M\" : [\"O\", \"N\"]\n",
        "                 }\n",
        "g = graph(graph_elements)     \n",
        "print(g.edges())    "
      ],
      "metadata": {
        "colab": {
          "base_uri": "https://localhost:8080/"
        },
        "id": "Jq_z9ugxRRCs",
        "outputId": "73958eac-657f-45d7-dbf9-5087f262c19d"
      },
      "execution_count": 12,
      "outputs": [
        {
          "output_type": "stream",
          "name": "stdout",
          "text": [
            "[{'O', 'R'}, {'L', 'R'}, {'O', 'M'}, {'O', 'P'}, {'M', 'N'}]\n"
          ]
        }
      ]
    },
    {
      "cell_type": "code",
      "source": [
        "class graph:\n",
        "  def __init__(self,gdict=None):\n",
        "    if gdict is None:\n",
        "        gdict = {}\n",
        "    self.gdict = gdict\n",
        "  \n",
        "  def getVeertices(self):\n",
        "    return list(self.gdict.keys())\n",
        "\n",
        "#add the vertex as a key\n",
        "  def addVertex(self, vrtx):\n",
        "    if vrtx not in self.gdict:\n",
        "        self.gdict[vrtx] = []\n",
        "\n",
        "#Create the dictionary with graph elements \n",
        "graph_elements = { \"a\" : [\"b\", \"c\"],\n",
        "                     \"b\" : [\"a\", \"d\"],\n",
        "                     \"c\" : [\"a\", \"d\"],\n",
        "                     \"d\" : [\"e\"],\n",
        "                     \"e\" : [\"d\"]\n",
        "                   }\n",
        "\n",
        "g = graph(graph_elements)    \n",
        "g.addVertex(\"f\")\n",
        "print(g.getVeertices())"
      ],
      "metadata": {
        "colab": {
          "base_uri": "https://localhost:8080/"
        },
        "id": "y9OfVvh4RYlu",
        "outputId": "0abefeb1-ff00-4a6f-9ed7-6e96076059c3"
      },
      "execution_count": 13,
      "outputs": [
        {
          "output_type": "stream",
          "name": "stdout",
          "text": [
            "['a', 'b', 'c', 'd', 'e', 'f']\n"
          ]
        }
      ]
    },
    {
      "cell_type": "code",
      "source": [
        "class graph:\n",
        "  def __init__(self,gdict=None):\n",
        "    if gdict is None:\n",
        "        gdict = {}\n",
        "    self.gdict = gdict\n",
        "  \n",
        "  def getVeertices(self):\n",
        "    return list(self.gdict.keys())\n",
        "\n",
        "#add the vertex as a key\n",
        "  def addVertex(self, vrtx):\n",
        "    if vrtx not in self.gdict:\n",
        "        self.gdict[vrtx] = []\n",
        "\n",
        "#Create the dictionary with graph elements \n",
        "graph_elements = { \"T\" : [\"U\", \"W\"],\n",
        "                   \"U\" : [\"T\", \"V\"],\n",
        "                   \"V\" : [\"U\", \"T\"]\n",
        "                 }\n",
        "\n",
        "g = graph(graph_elements)    \n",
        "g.addVertex(\"f\")\n",
        "print(g.getVeertices())"
      ],
      "metadata": {
        "colab": {
          "base_uri": "https://localhost:8080/"
        },
        "id": "sbdE9r6sS8JI",
        "outputId": "bf88541d-6016-4494-c223-8d2b95c9cc44"
      },
      "execution_count": 14,
      "outputs": [
        {
          "output_type": "stream",
          "name": "stdout",
          "text": [
            "['T', 'U', 'V', 'f']\n"
          ]
        }
      ]
    },
    {
      "cell_type": "code",
      "source": [
        "class graph:\n",
        "  def __init__(self,gdict=None):\n",
        "    if gdict is None:\n",
        "        gdict = {}\n",
        "    self.gdict = gdict\n",
        "  \n",
        "  def getVeertices(self):\n",
        "    return list(self.gdict.keys())\n",
        "\n",
        "#add the vertex as a key\n",
        "  def addVertex(self, vrtx):\n",
        "    if vrtx not in self.gdict:\n",
        "        self.gdict[vrtx] = []\n",
        "\n",
        "#Create the dictionary with graph elements \n",
        "graph_elements = { \"R\" : [\"O\", \"L\"],\n",
        "                   \"O\" : [\"M\", \"P\"],\n",
        "                   \"M\" : [\"O\", \"N\"]\n",
        "                 }\n",
        "g = graph(graph_elements)    \n",
        "g.addVertex(\"f\")\n",
        "print(g.getVeertices())"
      ],
      "metadata": {
        "colab": {
          "base_uri": "https://localhost:8080/"
        },
        "id": "jzfafNEXTOXD",
        "outputId": "a6473f5b-440b-43be-91c0-8bbf81cbc7df"
      },
      "execution_count": 15,
      "outputs": [
        {
          "output_type": "stream",
          "name": "stdout",
          "text": [
            "['R', 'O', 'M', 'f']\n"
          ]
        }
      ]
    },
    {
      "cell_type": "code",
      "source": [
        "# menambahkan edge\n",
        "class graph:\n",
        "  def __init__(self,gdict=None):\n",
        "    if gdict is None:\n",
        "      gdict = {}\n",
        "    self.gdict = gdict\n",
        "  \n",
        "  def edges(self):\n",
        "    return self.findedges()\n",
        "\n",
        "# add the new edge\n",
        "  def AddEdge(self,edge):\n",
        "    edge = set(edge)\n",
        "    (vrtx1, vrtx2) = tuple(edge)\n",
        "    if vrtx1 in self.gdict:\n",
        "      self.gdict[vrtx1].append(vrtx2)\n",
        "    else:\n",
        "      self.gdict[vrtx1] = [vrtx2]\n",
        "\n",
        "#List the edge names\n",
        "  def findedges(self):\n",
        "    edgename = []\n",
        "    for vrtx in self.gdict :\n",
        "      for nxtvrtx in self.gdict[vrtx]:\n",
        "        if{nxtvrtx, vrtx} not in edgename:\n",
        "          edgename.append({vrtx, nxtvrtx})\n",
        "    return edgename"
      ],
      "metadata": {
        "id": "086GTxAaTVnE"
      },
      "execution_count": 16,
      "outputs": []
    },
    {
      "cell_type": "code",
      "source": [
        "#Create the dictionary with graph elements\n",
        "graph_elements = {\"a\":[\"b\",\"c\"],\n",
        "                  \"b\":[\"a\",\"d\"],\n",
        "                  \"c\":[\"a\",\"d\"],\n",
        "                  \"d\":[\"e\"],\n",
        "                  \"e\":[\"d\"]\n",
        "                  }\n",
        "\n",
        "g = graph(graph_elements)\n",
        "g.AddEdge({'a','e'})\n",
        "g.AddEdge({'a','c'})\n",
        "print(g.edges())"
      ],
      "metadata": {
        "colab": {
          "base_uri": "https://localhost:8080/"
        },
        "id": "KwJKrV6hUiiF",
        "outputId": "cdd643c5-64c8-48bb-e071-5af825e76689"
      },
      "execution_count": 17,
      "outputs": [
        {
          "output_type": "stream",
          "name": "stdout",
          "text": [
            "[{'a', 'b'}, {'c', 'a'}, {'a', 'e'}, {'d', 'b'}, {'c', 'd'}, {'d', 'e'}]\n"
          ]
        }
      ]
    },
    {
      "cell_type": "code",
      "source": [
        "graph_elements = { \"T\" : [\"U\", \"W\"],\n",
        "                   \"U\" : [\"T\", \"V\"],\n",
        "                   \"V\" : [\"U\", \"T\"]\n",
        "                 }\n",
        "\n",
        "g = graph(graph_elements)\n",
        "g.AddEdge({'T','e'})\n",
        "g.AddEdge({'U','c'})\n",
        "print(g.edges())"
      ],
      "metadata": {
        "id": "6bPILLhCU8y-",
        "colab": {
          "base_uri": "https://localhost:8080/"
        },
        "outputId": "adbaa96d-e101-4fe2-961b-971164903f06"
      },
      "execution_count": 18,
      "outputs": [
        {
          "output_type": "stream",
          "name": "stdout",
          "text": [
            "[{'T', 'U'}, {'T', 'W'}, {'T', 'e'}, {'V', 'U'}, {'T', 'V'}, {'c', 'U'}]\n"
          ]
        }
      ]
    },
    {
      "cell_type": "code",
      "source": [
        "graph_elements = { \"R\" : [\"O\", \"L\"],\n",
        "                   \"O\" : [\"M\", \"P\"],\n",
        "                   \"M\" : [\"O\", \"N\"]\n",
        "                 }\n",
        "\n",
        "g = graph(graph_elements)\n",
        "g.AddEdge({'R','e'})\n",
        "g.AddEdge({'O','c'})\n",
        "print(g.edges())"
      ],
      "metadata": {
        "id": "BLnlgzCAEdu-",
        "colab": {
          "base_uri": "https://localhost:8080/"
        },
        "outputId": "11b108e4-7b53-41b1-e24d-daa961fbedf6"
      },
      "execution_count": 19,
      "outputs": [
        {
          "output_type": "stream",
          "name": "stdout",
          "text": [
            "[{'O', 'R'}, {'L', 'R'}, {'O', 'M'}, {'O', 'P'}, {'M', 'N'}, {'e', 'R'}, {'c', 'O'}]\n"
          ]
        }
      ]
    },
    {
      "cell_type": "code",
      "source": [],
      "metadata": {
        "id": "LbJd5lMYTD_-"
      },
      "execution_count": null,
      "outputs": []
    }
  ]
}