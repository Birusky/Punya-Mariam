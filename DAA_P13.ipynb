{
  "nbformat": 4,
  "nbformat_minor": 0,
  "metadata": {
    "colab": {
      "provenance": [],
      "authorship_tag": "ABX9TyP9odlNlFr2xFyzeaedn+J0",
      "include_colab_link": true
    },
    "kernelspec": {
      "name": "python3",
      "display_name": "Python 3"
    },
    "language_info": {
      "name": "python"
    }
  },
  "cells": [
    {
      "cell_type": "markdown",
      "metadata": {
        "id": "view-in-github",
        "colab_type": "text"
      },
      "source": [
        "<a href=\"https://colab.research.google.com/github/Birusky/Punya-Mariam/blob/main/DAA_P13.ipynb\" target=\"_parent\"><img src=\"https://colab.research.google.com/assets/colab-badge.svg\" alt=\"Open In Colab\"/></a>"
      ]
    },
    {
      "cell_type": "code",
      "execution_count": 20,
      "metadata": {
        "id": "edeja4vRyzbM"
      },
      "outputs": [],
      "source": [
        "def bfs(graph, start):\n",
        "    visited = []\n",
        "    queue = [start]\n",
        "\n",
        "    while queue:\n",
        "        node = queue.pop(0)\n",
        "        if node not in visited:\n",
        "            visited.append(node)\n",
        "            neighbours = graph[node]\n",
        "            for neighbour in neighbours:\n",
        "                queue.append(neighbour)\n",
        "    return visited       "
      ]
    },
    {
      "cell_type": "code",
      "source": [
        "graph = { 'Amin' : {'Wasim', 'Nick', 'Mike'},\n",
        "          'Wasim' : {'Imran', 'Amin'},\n",
        "          'Imran' : {'Wasim', 'Faras'},\n",
        "          'Faras' : {'Imran'},\n",
        "          'Mike' : {'Amin'},\n",
        "          'Nick' : {'Amin'}\n",
        "        }"
      ],
      "metadata": {
        "id": "GBQN_r48y68I"
      },
      "execution_count": 21,
      "outputs": []
    },
    {
      "cell_type": "code",
      "source": [
        "bfs(graph,'Amin')"
      ],
      "metadata": {
        "colab": {
          "base_uri": "https://localhost:8080/"
        },
        "id": "NsG0FzSyy9OO",
        "outputId": "cbf83718-e71b-4113-9984-90bb9a061897"
      },
      "execution_count": 22,
      "outputs": [
        {
          "output_type": "execute_result",
          "data": {
            "text/plain": [
              "['Amin', 'Wasim', 'Nick', 'Mike', 'Imran', 'Faras']"
            ]
          },
          "metadata": {},
          "execution_count": 22
        }
      ]
    },
    {
      "cell_type": "code",
      "source": [
        "bfs(graph,'Wasim')"
      ],
      "metadata": {
        "colab": {
          "base_uri": "https://localhost:8080/"
        },
        "id": "cEv5jbmDy_rP",
        "outputId": "71a3fd13-04c3-4bb2-c085-b68566aad90a"
      },
      "execution_count": 23,
      "outputs": [
        {
          "output_type": "execute_result",
          "data": {
            "text/plain": [
              "['Wasim', 'Imran', 'Amin', 'Faras', 'Nick', 'Mike']"
            ]
          },
          "metadata": {},
          "execution_count": 23
        }
      ]
    },
    {
      "cell_type": "code",
      "source": [
        "bfs(graph,'Imran')"
      ],
      "metadata": {
        "colab": {
          "base_uri": "https://localhost:8080/"
        },
        "id": "Pc16OESQzCve",
        "outputId": "8671a8b3-f377-4b93-d100-8c51c5744df9"
      },
      "execution_count": 24,
      "outputs": [
        {
          "output_type": "execute_result",
          "data": {
            "text/plain": [
              "['Imran', 'Faras', 'Wasim', 'Amin', 'Nick', 'Mike']"
            ]
          },
          "metadata": {},
          "execution_count": 24
        }
      ]
    },
    {
      "cell_type": "code",
      "source": [
        "bfs(graph,'Faras')"
      ],
      "metadata": {
        "colab": {
          "base_uri": "https://localhost:8080/"
        },
        "id": "fQx7qXqWzFYt",
        "outputId": "4e6ef3c2-a92a-4895-f6ce-88225526f3cf"
      },
      "execution_count": 25,
      "outputs": [
        {
          "output_type": "execute_result",
          "data": {
            "text/plain": [
              "['Faras', 'Imran', 'Wasim', 'Amin', 'Nick', 'Mike']"
            ]
          },
          "metadata": {},
          "execution_count": 25
        }
      ]
    },
    {
      "cell_type": "code",
      "source": [
        "graph = { 'Rektor' : {'Warek 1', 'Warek 2'},\n",
        "          'Warek 1' : {'Rektor'},\n",
        "          'Warek 2' : {'Rektor', 'Kaprodi 1', 'Kaprodi 2', 'Kaprodi 3'},\n",
        "          'Kaprodi 1' : {'Warek 2', 'Dosen A', 'Dosen B', 'Dosen C'},\n",
        "          'Kaprodi 2' : {'Warek 2', 'Dosen D', 'Dosen E'},\n",
        "          'Kaprodi 3' : {'Warek 2', 'Dosen F', 'Dosen G'},\n",
        "          'Dosen A' : {'Kaprodi 1'},\n",
        "          'Dosen B' : {'Kaprodi 1'},\n",
        "          'Dosen C' : {'Kaprodi 1'},\n",
        "          'Dosen D' : {'Kaprodi 2'},\n",
        "          'Dosen E' : {'Kaprodi 2'},\n",
        "          'Dosen F' : {'Kaprodi 3'},\n",
        "          'Dosen G' : {'Kaprodi 3'},\n",
        "        }"
      ],
      "metadata": {
        "id": "JDbULxlhzH-e"
      },
      "execution_count": 26,
      "outputs": []
    },
    {
      "cell_type": "code",
      "source": [
        "bfs(graph,'Dosen A')"
      ],
      "metadata": {
        "colab": {
          "base_uri": "https://localhost:8080/"
        },
        "id": "9uvFW3q8zKgM",
        "outputId": "553b962a-91b1-492f-f99a-f917c3a5622e"
      },
      "execution_count": 27,
      "outputs": [
        {
          "output_type": "execute_result",
          "data": {
            "text/plain": [
              "['Dosen A',\n",
              " 'Kaprodi 1',\n",
              " 'Dosen B',\n",
              " 'Dosen C',\n",
              " 'Warek 2',\n",
              " 'Kaprodi 3',\n",
              " 'Kaprodi 2',\n",
              " 'Rektor',\n",
              " 'Dosen G',\n",
              " 'Dosen F',\n",
              " 'Dosen E',\n",
              " 'Dosen D',\n",
              " 'Warek 1']"
            ]
          },
          "metadata": {},
          "execution_count": 27
        }
      ]
    },
    {
      "cell_type": "code",
      "source": [
        "bfs(graph,'Warek 1')"
      ],
      "metadata": {
        "colab": {
          "base_uri": "https://localhost:8080/"
        },
        "id": "NNG3sSISzNAW",
        "outputId": "30cf332f-bf69-4139-cfe2-f0b96b76fa55"
      },
      "execution_count": 28,
      "outputs": [
        {
          "output_type": "execute_result",
          "data": {
            "text/plain": [
              "['Warek 1',\n",
              " 'Rektor',\n",
              " 'Warek 2',\n",
              " 'Kaprodi 1',\n",
              " 'Kaprodi 3',\n",
              " 'Kaprodi 2',\n",
              " 'Dosen B',\n",
              " 'Dosen C',\n",
              " 'Dosen A',\n",
              " 'Dosen G',\n",
              " 'Dosen F',\n",
              " 'Dosen E',\n",
              " 'Dosen D']"
            ]
          },
          "metadata": {},
          "execution_count": 28
        }
      ]
    },
    {
      "cell_type": "markdown",
      "source": [
        "IMPLEMENTASI ALGORITMA DEPTH-FIRST SEARCH"
      ],
      "metadata": {
        "id": "n0puPxDizUcc"
      }
    },
    {
      "cell_type": "code",
      "source": [
        "def dfs(graph, start, visited=None):\n",
        "    if visited is None:\n",
        "        visited = set()\n",
        "    visited.add(start)\n",
        "    print(start)\n",
        "    for next in graph[start] - visited:\n",
        "        dfs(graph, next, visited)\n",
        "    return visited  "
      ],
      "metadata": {
        "id": "-FssvziFzQ1X"
      },
      "execution_count": 29,
      "outputs": []
    },
    {
      "cell_type": "code",
      "source": [
        "graph = { 'Amin' : {'Wasim', 'Nick', 'Mike'},\n",
        "          'Wasim' : {'Imran', 'Amin'},\n",
        "          'Imran' : {'Wasim', 'Faras'},\n",
        "          'Faras' : {'Imran'},\n",
        "          'Nick' : {'Amin'},\n",
        "          'Mike' : {'Amin'},  \n",
        "        }"
      ],
      "metadata": {
        "id": "NJW9boSbzZyJ"
      },
      "execution_count": 30,
      "outputs": []
    },
    {
      "cell_type": "code",
      "source": [
        "dfs(graph,'Amin')"
      ],
      "metadata": {
        "colab": {
          "base_uri": "https://localhost:8080/"
        },
        "id": "Cx0xylVjzb59",
        "outputId": "9e55d294-bb5f-4c71-8f14-a9fa4a615fc1"
      },
      "execution_count": 31,
      "outputs": [
        {
          "output_type": "stream",
          "name": "stdout",
          "text": [
            "Amin\n",
            "Wasim\n",
            "Imran\n",
            "Faras\n",
            "Nick\n",
            "Mike\n"
          ]
        },
        {
          "output_type": "execute_result",
          "data": {
            "text/plain": [
              "{'Amin', 'Faras', 'Imran', 'Mike', 'Nick', 'Wasim'}"
            ]
          },
          "metadata": {},
          "execution_count": 31
        }
      ]
    },
    {
      "cell_type": "code",
      "source": [
        "dfs(graph,'Wasim')"
      ],
      "metadata": {
        "colab": {
          "base_uri": "https://localhost:8080/"
        },
        "id": "loQHBnMwzeDU",
        "outputId": "c0b96bcc-8099-41cf-ad14-700a3373e09c"
      },
      "execution_count": 32,
      "outputs": [
        {
          "output_type": "stream",
          "name": "stdout",
          "text": [
            "Wasim\n",
            "Imran\n",
            "Faras\n",
            "Amin\n",
            "Nick\n",
            "Mike\n"
          ]
        },
        {
          "output_type": "execute_result",
          "data": {
            "text/plain": [
              "{'Amin', 'Faras', 'Imran', 'Mike', 'Nick', 'Wasim'}"
            ]
          },
          "metadata": {},
          "execution_count": 32
        }
      ]
    },
    {
      "cell_type": "code",
      "source": [
        "dfs(graph,'Nick')"
      ],
      "metadata": {
        "colab": {
          "base_uri": "https://localhost:8080/"
        },
        "id": "Ef6dvmv_zgKB",
        "outputId": "c41454de-27f8-45ce-97a5-300e485ee608"
      },
      "execution_count": 33,
      "outputs": [
        {
          "output_type": "stream",
          "name": "stdout",
          "text": [
            "Nick\n",
            "Amin\n",
            "Wasim\n",
            "Imran\n",
            "Faras\n",
            "Mike\n"
          ]
        },
        {
          "output_type": "execute_result",
          "data": {
            "text/plain": [
              "{'Amin', 'Faras', 'Imran', 'Mike', 'Nick', 'Wasim'}"
            ]
          },
          "metadata": {},
          "execution_count": 33
        }
      ]
    },
    {
      "cell_type": "code",
      "source": [
        "graph = { 'Rektor' : {'Warek 1', 'Warek 2'},\n",
        "          'Warek 1' : {'Rektor'},\n",
        "          'Warek 2' : {'Rektor', 'Kaprodi 1', 'Kaprodi 2', 'Kaprodi 3'},\n",
        "          'Kaprodi 1' : {'Warek 2', 'Dosen A', 'Dosen B', 'Dosen C'},\n",
        "          'Kaprodi 2' : {'Warek 2', 'Dosen D', 'Dosen E'},\n",
        "          'Kaprodi 3' : {'Warek 2', 'Dosen F', 'Dosen G'},\n",
        "          'Dosen A' : {'Kaprodi 1'},\n",
        "          'Dosen B' : {'Kaprodi 1'},\n",
        "          'Dosen C' : {'Kaprodi 1'},\n",
        "          'Dosen D' : {'Kaprodi 2'},\n",
        "          'Dosen E' : {'Kaprodi 2'},\n",
        "          'Dosen F' : {'Kaprodi 3'},\n",
        "          'Dosen G' : {'Kaprodi 3'},\n",
        "        }"
      ],
      "metadata": {
        "id": "rCNwVcUCzkBd"
      },
      "execution_count": 34,
      "outputs": []
    },
    {
      "cell_type": "code",
      "source": [
        "dfs(graph,'Warek 1')"
      ],
      "metadata": {
        "colab": {
          "base_uri": "https://localhost:8080/"
        },
        "id": "XyxSwbMTzm3b",
        "outputId": "89b01659-d6db-4463-b42b-b24aef9c70cb"
      },
      "execution_count": 35,
      "outputs": [
        {
          "output_type": "stream",
          "name": "stdout",
          "text": [
            "Warek 1\n",
            "Rektor\n",
            "Warek 2\n",
            "Kaprodi 1\n",
            "Dosen A\n",
            "Dosen C\n",
            "Dosen B\n",
            "Kaprodi 3\n",
            "Dosen G\n",
            "Dosen F\n",
            "Kaprodi 2\n",
            "Dosen E\n",
            "Dosen D\n"
          ]
        },
        {
          "output_type": "execute_result",
          "data": {
            "text/plain": [
              "{'Dosen A',\n",
              " 'Dosen B',\n",
              " 'Dosen C',\n",
              " 'Dosen D',\n",
              " 'Dosen E',\n",
              " 'Dosen F',\n",
              " 'Dosen G',\n",
              " 'Kaprodi 1',\n",
              " 'Kaprodi 2',\n",
              " 'Kaprodi 3',\n",
              " 'Rektor',\n",
              " 'Warek 1',\n",
              " 'Warek 2'}"
            ]
          },
          "metadata": {},
          "execution_count": 35
        }
      ]
    }
  ]
}