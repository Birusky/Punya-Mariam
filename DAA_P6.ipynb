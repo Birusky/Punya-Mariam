{
  "nbformat": 4,
  "nbformat_minor": 0,
  "metadata": {
    "colab": {
      "provenance": [],
      "collapsed_sections": [],
      "authorship_tag": "ABX9TyOQoGwyh/nudJOTNughNhYd",
      "include_colab_link": true
    },
    "kernelspec": {
      "name": "python3",
      "display_name": "Python 3"
    },
    "language_info": {
      "name": "python"
    }
  },
  "cells": [
    {
      "cell_type": "markdown",
      "metadata": {
        "id": "view-in-github",
        "colab_type": "text"
      },
      "source": [
        "<a href=\"https://colab.research.google.com/github/Birusky/Punya-Mariam/blob/main/DAA_P6.ipynb\" target=\"_parent\"><img src=\"https://colab.research.google.com/assets/colab-badge.svg\" alt=\"Open In Colab\"/></a>"
      ]
    },
    {
      "cell_type": "code",
      "execution_count": 32,
      "metadata": {
        "colab": {
          "base_uri": "https://localhost:8080/"
        },
        "id": "wefvR9RSqqJP",
        "outputId": "da45b982-e1b6-4c85-8517-8c0a6002ca59"
      },
      "outputs": [
        {
          "output_type": "stream",
          "name": "stdout",
          "text": [
            "How many terms ?5\n",
            "Fibonacci sequence : \n",
            "0\n",
            "1\n",
            "1\n",
            "2\n",
            "3\n"
          ]
        }
      ],
      "source": [
        "#dua term awal \n",
        "nterms = int(input(\"How many terms ?\"))\n",
        "n1,n2 =0,1\n",
        "count = 0 \n",
        "\n",
        "#mengecek apabila term valid atau tidak \n",
        "if nterms <= 0:\n",
        "  print(\"Please enter a positive integer\")\n",
        "elif nterms == 1:\n",
        "  print(\"Fibonacci sequence upto \", nterms, \":\")\n",
        "  print(n1)\n",
        "else:\n",
        "  print(\"Fibonacci sequence : \")\n",
        "  while count < nterms:\n",
        "    print(n1)\n",
        "    nth = n1+n2\n",
        "    #update nilai\n",
        "    n1=n2\n",
        "    n2=nth\n",
        "    count+=1"
      ]
    },
    {
      "cell_type": "code",
      "source": [
        "#Fibonacci dengan rekursi\n",
        "\n",
        "def recur_fibo(n):\n",
        "  if n<= 1:\n",
        "    return n\n",
        "  else:\n",
        "    return(recur_fibo(n-1) + recur_fibo(n-2))\n",
        "nterms = 20\n",
        "\n",
        "#cek apakah nilai nterms valid\n",
        "if nterms <= 0:\n",
        "  print(\"Pkease enter a positive integer\")\n",
        "else:\n",
        "  print(\"Fibonacci sequence:\")\n",
        "  for i in range(nterms):\n",
        "    print(recur_fibo(i))"
      ],
      "metadata": {
        "id": "ZGp6pCUvrine",
        "colab": {
          "base_uri": "https://localhost:8080/"
        },
        "outputId": "16aa5f2e-aa02-4701-8786-d8ab6f295d27"
      },
      "execution_count": 33,
      "outputs": [
        {
          "output_type": "stream",
          "name": "stdout",
          "text": [
            "Fibonacci sequence:\n",
            "0\n",
            "1\n",
            "1\n",
            "2\n",
            "3\n",
            "5\n",
            "8\n",
            "13\n",
            "21\n",
            "34\n",
            "55\n",
            "89\n",
            "144\n",
            "233\n",
            "377\n",
            "610\n",
            "987\n",
            "1597\n",
            "2584\n",
            "4181\n"
          ]
        }
      ]
    },
    {
      "cell_type": "code",
      "source": [
        "def recur_fibo(n):\n",
        "  if n <= 1:\n",
        "    return n\n",
        "  else:\n",
        "    return(recur_fibo(n-1) + recur_fibo(n-2))\n",
        "\n",
        "nterms = int(input(\"How many terms? \"))\n",
        "\n",
        "if nterms <= 0:\n",
        "  print(\"Please enter a positive integer\")\n",
        "else:\n",
        "  print(\"Fibonacci sequence:\")\n",
        "  for i in range(nterms):\n",
        "    print(recur_fibo(i))"
      ],
      "metadata": {
        "colab": {
          "base_uri": "https://localhost:8080/"
        },
        "id": "0dbOlL_fELqn",
        "outputId": "7a5b7d2d-a70b-4bd5-c0a4-286c1367da63"
      },
      "execution_count": 34,
      "outputs": [
        {
          "output_type": "stream",
          "name": "stdout",
          "text": [
            "How many terms? 25\n",
            "Fibonacci sequence:\n",
            "0\n",
            "1\n",
            "1\n",
            "2\n",
            "3\n",
            "5\n",
            "8\n",
            "13\n",
            "21\n",
            "34\n",
            "55\n",
            "89\n",
            "144\n",
            "233\n",
            "377\n",
            "610\n",
            "987\n",
            "1597\n",
            "2584\n",
            "4181\n",
            "6765\n",
            "10946\n",
            "17711\n",
            "28657\n",
            "46368\n"
          ]
        }
      ]
    },
    {
      "cell_type": "code",
      "source": [
        "import random\n",
        "from itertools import permutations\n",
        "alltours = permutations\n",
        "\n",
        "def distance_tour(aTour):\n",
        "    return sum(distance_points(aTour[i - 1], aTour[i])\n",
        "        for i in range(len(aTour)))\n",
        "\n",
        "aCity = complex\n",
        "\n",
        "def distance_points(first, second):\n",
        "    return abs(first - second)\n",
        "\n",
        "def generate_cities(number_of_cities):\n",
        "    seed = 11100;width = 500; height = 300\n",
        "    random.seed((number_of_cities, seed))\n",
        "    return frozenset(aCity(random.randint(1, width), random.randint(1, height))\n",
        "        for c in range(number_of_cities))"
      ],
      "metadata": {
        "id": "BSqPsvau0aoF"
      },
      "execution_count": 35,
      "outputs": []
    },
    {
      "cell_type": "code",
      "source": [
        "%matplotlib inline\n",
        "import matplotlib.pyplot as plt\n",
        "\n",
        "def visualize_tour(tour, style='bo-'):\n",
        "  if len(tour) > 10000: plt.figure(fgsize=(15,10))\n",
        "  start = tour[0:1]\n",
        "  visualize_segment(tour + start, style)\n",
        "  visualize_segment(start, 'rD')\n",
        "def visualize_segment (segment, style='bo-'):\n",
        "  plt.plot([X(c) for c in segment], [Y(c) for c in segment], style, clip_on=False)\n",
        "  plt.axis('scaled')\n",
        "  plt.axis('off')\n",
        "\n",
        "def X(city): \"X axis\"; return city.real\n",
        "def Y(city): \"Y axis\"; return city.imag"
      ],
      "metadata": {
        "id": "rajZyRVT0hup"
      },
      "execution_count": 36,
      "outputs": []
    },
    {
      "cell_type": "code",
      "source": [
        "from time import process_time\n",
        "from collections import Counter\n",
        "def tsp(algorithm, cities):\n",
        "  t0 = process_time()\n",
        "  tour = algorithm(cities)\n",
        "  t1 = process_time()\n",
        "  assert Counter(tour) == Counter(cities)\n",
        "  visualize_tour(tour)\n",
        "  print(\"{}:{} cities => tour length {:.0f}(in {:.3f} sec)\".format(name(algorithm), len(tour), distance_tour(tour), t1-t0))\n",
        "\n",
        "def name(algorithm): return algorithm.__name__.replace('_tsp','')"
      ],
      "metadata": {
        "id": "r31aNLn60kcF"
      },
      "execution_count": 37,
      "outputs": []
    },
    {
      "cell_type": "code",
      "source": [
        "def greedy_algorithm(cities, start=None):\n",
        "  C = start or first(cities)\n",
        "  tour = [C]\n",
        "  univisited = set(cities - {C})\n",
        "  while univisited:\n",
        "    C = nearest_neighbor(C, univisited)\n",
        "    tour.append(C)\n",
        "    univisited.remove(C)\n",
        "  return tour\n",
        "\n",
        "def first(collection): return next(iter(collection))\n",
        "def nearest_neighbor(A, cities):\n",
        "  return min(cities, key=lambda C: distance_points(C, A))"
      ],
      "metadata": {
        "id": "HRGpNmXy0sfm"
      },
      "execution_count": 38,
      "outputs": []
    },
    {
      "cell_type": "code",
      "source": [
        "tsp(greedy_algorithm, generate_cities(10))"
      ],
      "metadata": {
        "colab": {
          "base_uri": "https://localhost:8080/",
          "height": 256
        },
        "id": "i2-loSM40wHI",
        "outputId": "89bb7b58-d93e-44cb-bb17-f330ccdbabdd"
      },
      "execution_count": 39,
      "outputs": [
        {
          "output_type": "stream",
          "name": "stdout",
          "text": [
            "greedy_algorithm:10 cities => tour length 1541(in 0.000 sec)\n"
          ]
        },
        {
          "output_type": "display_data",
          "data": {
            "text/plain": [
              "<Figure size 432x288 with 1 Axes>"
            ],
            "image/png": "[encoded data removed]"
          },
          "metadata": {
            "needs_background": "light"
          }
        }
      ]
    },
    {
      "cell_type": "code",
      "source": [
        "tsp(greedy_algorithm, generate_cities(2000))"
      ],
      "metadata": {
        "id": "POTYZkxf0zRH",
        "outputId": "01724301-7624-4d96-9987-f31f74e559db",
        "colab": {
          "base_uri": "https://localhost:8080/",
          "height": 250
        }
      },
      "execution_count": 40,
      "outputs": [
        {
          "output_type": "stream",
          "name": "stdout",
          "text": [
            "greedy_algorithm:1979 cities => tour length 15841(in 0.566 sec)\n"
          ]
        },
        {
          "output_type": "display_data",
          "data": {
            "text/plain": [
              "<Figure size 432x288 with 1 Axes>"
            ],
            "image/png": "[encoded data removed]"
          },
          "metadata": {
            "needs_background": "light"
          }
        }
      ]
    },
    {
      "cell_type": "code",
      "source": [
        "string = 'BCAADDDCCACACAC'\n",
        "\n",
        "class NodeTree(object):\n",
        "  def __init__(self, left=None, right=None):\n",
        "    self.left = left\n",
        "    self.right = right\n",
        "\n",
        "  def children(self):\n",
        "    return (self.left, self.right)\n",
        "\n",
        "  def nodes(self):\n",
        "    return (self.left, self.right)\n",
        "  def __str__(self):\n",
        "    return '%s_%s' % (self.left, self.right)"
      ],
      "metadata": {
        "id": "O-0WS1Us02vK"
      },
      "execution_count": 41,
      "outputs": []
    },
    {
      "cell_type": "code",
      "source": [
        "def huffman_code_tree(node, left=True, binString=''): \n",
        "  if type(node) is str:\n",
        "    return {node: binString}\n",
        "  (l, r) = node.children()\n",
        "  d = dict()\n",
        "  d.update(huffman_code_tree(l, True, binString + '0'))\n",
        "  d.update(huffman_code_tree(r, False, binString + '1'))\n",
        "  return d"
      ],
      "metadata": {
        "id": "eAk6dEljCgqB"
      },
      "execution_count": 42,
      "outputs": []
    },
    {
      "cell_type": "code",
      "source": [
        "freq = {}\n",
        "for c in string:\n",
        "  if c in freq:\n",
        "    freq[c] += 1\n",
        "  else:\n",
        "    freq[c] = 1\n",
        "\n",
        "freq = sorted(freq.items(), key=lambda x: x[1], reverse=True)\n",
        "\n",
        "nodes = freq\n",
        "\n",
        "while len(nodes) > 1:\n",
        "  (key1, c1) = nodes[-1]\n",
        "  (key2, c2) = nodes[-2]\n",
        "  nodes = nodes[:-2]\n",
        "  node = NodeTree(key1, key2)\n",
        "  nodes.append((node, c1 + c2))\n",
        "\n",
        "  nodes = sorted(nodes, key=lambda x: x[1], reverse=True)\n",
        "\n",
        "huffmanCode = huffman_code_tree(nodes[0][0])\n",
        "\n",
        "print(' char | Huffman code ')\n",
        "print('========================')\n",
        "for (char, frequency) in freq:\n",
        "  print(' %-4r |%12s' % (char, huffmanCode[char]))"
      ],
      "metadata": {
        "colab": {
          "base_uri": "https://localhost:8080/"
        },
        "id": "I8vU9h9HClx1",
        "outputId": "e62a9041-3752-495a-a7de-ac80f44d95e4"
      },
      "execution_count": 43,
      "outputs": [
        {
          "output_type": "stream",
          "name": "stdout",
          "text": [
            " char | Huffman code \n",
            "========================\n",
            " 'C'  |           0\n",
            " 'A'  |          11\n",
            " 'D'  |         101\n",
            " 'B'  |         100\n"
          ]
        }
      ]
    },
    {
      "cell_type": "code",
      "source": [
        "string = 'HUFFMAN'\n",
        "\n",
        "print(' char | Huffman code ')\n",
        "print('========================')\n",
        "for (char, frequency) in freq:\n",
        "  print(' %-4r |%12s' % (char, huffmanCode[char]))"
      ],
      "metadata": {
        "colab": {
          "base_uri": "https://localhost:8080/"
        },
        "id": "jysgzRL8Cpz5",
        "outputId": "85c913d0-2822-43e4-a37f-a81dd862a4bf"
      },
      "execution_count": 44,
      "outputs": [
        {
          "output_type": "stream",
          "name": "stdout",
          "text": [
            " char | Huffman code \n",
            "========================\n",
            " 'C'  |           0\n",
            " 'A'  |          11\n",
            " 'D'  |         101\n",
            " 'B'  |         100\n"
          ]
        }
      ]
    },
    {
      "cell_type": "code",
      "source": [],
      "metadata": {
        "id": "pPuhqbKiCtcR"
      },
      "execution_count": null,
      "outputs": []
    }
  ]
}